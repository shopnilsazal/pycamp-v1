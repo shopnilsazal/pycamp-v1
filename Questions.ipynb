{
 "cells": [
  {
   "cell_type": "markdown",
   "metadata": {},
   "source": [
    "# Answers to Pre Screening Questions"
   ]
  },
  {
   "cell_type": "markdown",
   "metadata": {},
   "source": [
    "## (1) GIL\n",
    "\n",
    "GIL stands for `Global Interpreter Lock`. It limits thread performance. GIL ensures that only one thread runs in\n",
    "the interpreter at once. It is necessary because Python's memory management is not thread-safe. \n",
    "\n",
    "`Jython` and `IronPython` don't have a GIL and can fully exploit multiprocessor systems. `Cython` has GIL but it offers explicitly release the GIL around a section of code. `Numba` is another tool which uses LLVM to convert Python code to machine code that can run with the GIL released."
   ]
  },
  {
   "cell_type": "markdown",
   "metadata": {},
   "source": [
    "## (2) range and xrange\n",
    "\n",
    "In Python 2.x `range` function creates list containing arithmetic progression. On the other hand, `xrange` function creates iterable `xrange` object. The main difference is `range` takes memory depending on it's size but `xrange` always takes the same amount of memory, no matter the size of it. \n",
    "\n",
    "Python 3 doesn't have `xrange` function. In Python 3 `range` function behaves like `xrange` function. Standard type has changed from `xrange` to `range`.\n",
    "\n",
    "We can create a list with list comprehension to emulate the Python 2.x `range` function in Python 3."
   ]
  },
  {
   "cell_type": "code",
   "execution_count": 3,
   "metadata": {
    "collapsed": false
   },
   "outputs": [
    {
     "data": {
      "text/plain": [
       "[1, 2, 3, 4, 5, 6, 7, 8, 9, 10]"
      ]
     },
     "execution_count": 3,
     "metadata": {},
     "output_type": "execute_result"
    }
   ],
   "source": [
    "[i for i in range(1, 11)]"
   ]
  },
  {
   "cell_type": "markdown",
   "metadata": {},
   "source": [
    "## (3) OrderedDict\n",
    "\n",
    "We can use `OrderedDict` from `collections` module to create a dictionary that maintains the order of the keys. "
   ]
  },
  {
   "cell_type": "code",
   "execution_count": 2,
   "metadata": {
    "collapsed": false
   },
   "outputs": [
    {
     "name": "stdout",
     "output_type": "stream",
     "text": [
      "Django\n",
      "python : Django\n",
      "ruby : Rails\n",
      "php : Laravel\n",
      "go : Martini\n"
     ]
    }
   ],
   "source": [
    "from collections import OrderedDict\n",
    "\n",
    "d = OrderedDict([('python', 'Django'), ('ruby', 'Rails'), ('php', 'Laravel'), ('go', 'Martini')])\n",
    "print(d['python'])\n",
    "\n",
    "for k in d:\n",
    "    print(k, ':', d[k])"
   ]
  },
  {
   "cell_type": "markdown",
   "metadata": {
    "collapsed": false
   },
   "source": [
    "## (4) Analysis\n",
    "Python keeps an array of integer objects for all integers between -5 and 256. That's why, when we create an int in that range we actually just get back a reference to the existing object. \n",
    "\n",
    "When typing in the Python shell each line is a completely different statement, parsed in a different moment."
   ]
  },
  {
   "cell_type": "code",
   "execution_count": 3,
   "metadata": {
    "collapsed": false
   },
   "outputs": [
    {
     "data": {
      "text/plain": [
       "False"
      ]
     },
     "execution_count": 3,
     "metadata": {},
     "output_type": "execute_result"
    }
   ],
   "source": [
    "c = 257\n",
    "d = 257 \n",
    "c is d"
   ]
  },
  {
   "cell_type": "markdown",
   "metadata": {},
   "source": [
    "For immutable types, operations that compute new values may actually return a reference to any existing object with the same type and value, while for mutable objects this is not allowed. E.g., after e = 258; f = 258, e and f may or may not refer to the same object with the value one, depending on the implementation."
   ]
  },
  {
   "cell_type": "code",
   "execution_count": 7,
   "metadata": {
    "collapsed": false
   },
   "outputs": [
    {
     "data": {
      "text/plain": [
       "False"
      ]
     },
     "execution_count": 7,
     "metadata": {},
     "output_type": "execute_result"
    }
   ],
   "source": [
    "e = 258; f = 258\n",
    "e is f"
   ]
  },
  {
   "cell_type": "markdown",
   "metadata": {},
   "source": [
    "## (5) lists vs tuples"
   ]
  },
  {
   "cell_type": "markdown",
   "metadata": {},
   "source": [
    "Tuples are fixed size in nature whereas lists are dynamic. In other words, tuples are immutable whereas lists are mutable. \n",
    "\n",
    "There is also a cultural difference. Tuples are heterogeneous data structures, while lists are homogeneous sequences. Tuples have structure, lists have order. Tuples are also more memory efficient than lists.\n",
    "\n",
    "If we need immutability in our data structure we should use tuple over list."
   ]
  },
  {
   "cell_type": "markdown",
   "metadata": {},
   "source": [
    "## (6) Decorator\n",
    "Let's create a html tag decorator. We will decorate a functions return value with a html tag."
   ]
  },
  {
   "cell_type": "code",
   "execution_count": 37,
   "metadata": {
    "collapsed": false
   },
   "outputs": [
    {
     "name": "stdout",
     "output_type": "stream",
     "text": [
      "<p>Hello, my name is Shopnil Sazal</p>\n"
     ]
    }
   ],
   "source": [
    "# We can define function in another function\n",
    "# We can pass function as an argument of a function\n",
    "# We can also return function from a function\n",
    "\n",
    "def p_decorate(func):\n",
    "    def func_wrapper(*args):\n",
    "        return '<p>{0}</p>'.format(func(*args))\n",
    "    return func_wrapper\n",
    "\n",
    "\n",
    "# We have a function that returns full name while passing firstname and lastname\n",
    "def say_name(first, last):\n",
    "    return 'Hello, my name is {0} {1}'.format(first, last)\n",
    "\n",
    "\n",
    "# We can assign function to a variable\n",
    "# Here we are reassigning say_name function by modifying with p_decorate function\n",
    "say_name = p_decorate(say_name)\n",
    "\n",
    "print(say_name('Shopnil', 'Sazal'))"
   ]
  },
  {
   "cell_type": "markdown",
   "metadata": {},
   "source": [
    "This is very tedious. We can do it with a short sintext. Here is the trick. We can wrap `say_name` function with `@` sign immediate before assigning the function."
   ]
  },
  {
   "cell_type": "code",
   "execution_count": 38,
   "metadata": {
    "collapsed": false
   },
   "outputs": [
    {
     "name": "stdout",
     "output_type": "stream",
     "text": [
      "<p>Hello, my name is Rafiqul Hasan</p>\n"
     ]
    }
   ],
   "source": [
    "@p_decorate\n",
    "def say_full_name(first, last):\n",
    "    return 'Hello, my name is {0} {1}'.format(first, last)\n",
    "\n",
    "\n",
    "print(say_full_name('Rafiqul', 'Hasan'))"
   ]
  },
  {
   "cell_type": "markdown",
   "metadata": {},
   "source": [
    "## (7) Generator\n",
    "\n",
    "Generators simplifies creation of iterators. A generator is a function that produces a sequence of results instead of a single value."
   ]
  },
  {
   "cell_type": "code",
   "execution_count": 39,
   "metadata": {
    "collapsed": false
   },
   "outputs": [
    {
     "name": "stdout",
     "output_type": "stream",
     "text": [
      "4\n",
      "3\n",
      "2\n",
      "1\n",
      "0\n"
     ]
    }
   ],
   "source": [
    "# reverse range generator function\n",
    "def rev_range(n):\n",
    "    while n > 0:\n",
    "        n -= 1\n",
    "        yield n\n",
    "\n",
    "\n",
    "for i in rev_range(5):\n",
    "    print(i)\n"
   ]
  },
  {
   "cell_type": "markdown",
   "metadata": {},
   "source": [
    "## (8) asyncio\n",
    "\n",
    "`asyncio` module provides infrastructure for writing single-threaded concurrent code using coroutines. It has support for TCP, UDP, SSL, subprocess pipes, delayed calls etc. "
   ]
  },
  {
   "cell_type": "markdown",
   "metadata": {},
   "source": [
    "## (9) I love Python\n",
    "\n",
    "Python has some issues like performance, memory usage, threading etc. But it's improving. \n",
    "\n",
    "It has great collections of libraries and frameworks in different arena specially in Web and Scientific Computing. It has very nice and readable syntax. And most importantly, it is very productive language. I think, these are enough reason not only to use but love Python."
   ]
  },
  {
   "cell_type": "code",
   "execution_count": null,
   "metadata": {
    "collapsed": true
   },
   "outputs": [],
   "source": []
  }
 ],
 "metadata": {
  "kernelspec": {
   "display_name": "Python 3",
   "language": "python",
   "name": "python3"
  },
  "language_info": {
   "codemirror_mode": {
    "name": "ipython",
    "version": 3
   },
   "file_extension": ".py",
   "mimetype": "text/x-python",
   "name": "python",
   "nbconvert_exporter": "python",
   "pygments_lexer": "ipython3",
   "version": "3.5.2"
  }
 },
 "nbformat": 4,
 "nbformat_minor": 1
}
