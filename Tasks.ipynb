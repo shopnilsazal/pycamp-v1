{
 "cells": [
  {
   "cell_type": "markdown",
   "metadata": {},
   "source": [
    "# Tasks\n",
    "Note: All example codes are in Python 3. "
   ]
  },
  {
   "cell_type": "markdown",
   "metadata": {},
   "source": [
    "## 1. Permutations"
   ]
  },
  {
   "cell_type": "code",
   "execution_count": 7,
   "metadata": {
    "collapsed": false
   },
   "outputs": [
    {
     "name": "stdout",
     "output_type": "stream",
     "text": [
      "{'ollhe', 'lolhe', 'ohlle', 'hlole', 'elolh', 'llhoe', 'eollh', 'lohle', 'lleoh', 'hloel', 'lleho', 'oehll', 'leloh', 'lheol', 'ellho', 'llheo', 'ehllo', 'eholl', 'leohl', 'elhlo', 'ehlol', 'lloeh', 'holle', 'lhelo', 'olehl', 'loelh', 'loleh', 'hoell', 'heoll', 'elohl', 'lehlo', 'lhole', 'loehl', 'lohel', 'ohell', 'olelh', 'elhol', 'lehol', 'lhloe', 'lelho', 'oelhl', 'olleh', 'lhoel', 'hello', 'helol', 'holel', 'elloh', 'lhleo', 'leolh', 'llohe', 'hlelo', 'olhel', 'hlleo', 'eolhl', 'olhle', 'oellh', 'ohlel', 'hleol', 'hlloe', 'eohll'}\n"
     ]
    }
   ],
   "source": [
    "from itertools import permutations\n",
    "\n",
    "\n",
    "def word_permutations(word):\n",
    "    print(set([''.join(s) for s in permutations(word)]))\n",
    "\n",
    "word_permutations('hello')"
   ]
  },
  {
   "cell_type": "markdown",
   "metadata": {},
   "source": [
    "## 2. Upside Down"
   ]
  },
  {
   "cell_type": "code",
   "execution_count": 9,
   "metadata": {
    "collapsed": false
   },
   "outputs": [
    {
     "name": "stdout",
     "output_type": "stream",
     "text": [
      "ɘƃɐnƃuɐl ƃuıɯɯɐɹƃoɹd uoɥʇʎd\n"
     ]
    }
   ],
   "source": [
    "def upside_down(word):\n",
    "    upside = {\n",
    "        'a': '\\u0250',  # ɐ\n",
    "        'b': 'q',\n",
    "        'c': '\\u0254',  # ɔ\n",
    "        'd': 'p',\n",
    "        'e': '\\u0258',  # ǝ\n",
    "        'f': '\\u025F',  # ɟ\n",
    "        'g': '\\u0183',  # ƃ\n",
    "        'h': '\\u0265',  # ɥ\n",
    "        'i': '\\u0131',  # ı\n",
    "        'j': '\\u027E',  # ɾ\n",
    "        'k': '\\u029E',  # ʞ\n",
    "        'm': '\\u026F',  # ɯ\n",
    "        'n': 'u',       # u\n",
    "        'p': 'd',\n",
    "        'r': '\\u0279',  # ɹ\n",
    "        't': '\\u0287',  # ʇ\n",
    "        'u': 'n',\n",
    "        'v': '\\u028C',  # ʌ\n",
    "        'w': '\\u028D',  # ʍ\n",
    "        'y': '\\u028E',  # ʎ\n",
    "        '.': '\\u02D9',  # ˙\n",
    "        '[': ']',\n",
    "        '(': ')',\n",
    "        '{': '}',\n",
    "        '?': '\\u00BF',  # ¿\n",
    "        '!': '\\u00A1',  # ¡\n",
    "        '_': '\\u203E',  # ‾\n",
    "        '\"': '\\u201E',  # „\n",
    "        ';': '\\u061B',  # ؛\n",
    "        'A': '\\u15CA',  # ᗊ\n",
    "        'B': '\\u15FA',  # ᗺ\n",
    "        'C': '\\u0186',  # Ɔ\n",
    "        'D': '\\u15ED',  # ᗭ\n",
    "        'E': '\\u2203',  # ∃\n",
    "        'N': '\\u2d4d',\n",
    "        'O': '\\u0B20',  # ଠ\n",
    "        'R': '\\u1588',  # ᖈ\n",
    "        'T': '\\uFEE0',  # ﻠ\n",
    "        'U': '\\u041F',  # П\n",
    "        'V': '\\u039B',  # Λ\n",
    "        'Y': '\\u2d43',\n",
    "    }\n",
    "\n",
    "    print(''.join(reversed([upside.get(ch, ch) for ch in word])))\n",
    "\n",
    "\n",
    "upside_down('python programming language')\n"
   ]
  },
  {
   "cell_type": "markdown",
   "metadata": {},
   "source": [
    "## 3. Rename Files"
   ]
  },
  {
   "cell_type": "code",
   "execution_count": 12,
   "metadata": {
    "collapsed": false
   },
   "outputs": [
    {
     "name": "stdout",
     "output_type": "stream",
     "text": [
      "Enter directory name: images\n"
     ]
    }
   ],
   "source": [
    "import os\n",
    "\n",
    "path = input('Enter directory name: ')\n",
    "\n",
    "files = os.listdir(path)\n",
    "files.sort(key=lambda f: os.path.getatime(os.path.join(path, f)))\n",
    "\n",
    "for num, file in enumerate(files, start=1):\n",
    "    splited = file.split('.')\n",
    "    ext = splited.pop()\n",
    "    splited.append('_{0}'.format(num))\n",
    "    name = ''.join(splited)\n",
    "    os.rename(os.path.join(path, file), os.path.join(path, name + '.' + ext))\n"
   ]
  },
  {
   "cell_type": "markdown",
   "metadata": {
    "collapsed": true
   },
   "source": [
    "## 4. Django Activity Stream App\n",
    "\n",
    "I think only `models.py` should suffice for demonstrating this simple app. Here is my `models.py` file's code."
   ]
  },
  {
   "cell_type": "code",
   "execution_count": null,
   "metadata": {
    "collapsed": true
   },
   "outputs": [],
   "source": [
    "from django.db import models\n",
    "from django.utils import timezone\n",
    "from django.db.models.signals import post_save\n",
    "from employee.models import Employee\n",
    "\n",
    "# Create your models here.\n",
    "\n",
    "\n",
    "class StreamItem(models.Model):\n",
    "    stream_log = models.TextField(max_length=200)\n",
    "    pub_date = models.DateTimeField(auto_now_add=True)\n",
    "\n",
    "\n",
    "def create_stream_activity(sender, instance, created, **kwargs):\n",
    "\n",
    "    if created:\n",
    "        log = 'Employee {0} has been added by {1} at {2}'.format(instance.name, instance.user, timezone.now())\n",
    "        activity = StreamItem.objects.get_or_create(stream_log=log)\n",
    "\n",
    "post_save.connect(receiver=create_stream_activity, sender=Employee)\n"
   ]
  }
 ],
 "metadata": {
  "kernelspec": {
   "display_name": "Python 3",
   "language": "python",
   "name": "python3"
  },
  "language_info": {
   "codemirror_mode": {
    "name": "ipython",
    "version": 3
   },
   "file_extension": ".py",
   "mimetype": "text/x-python",
   "name": "python",
   "nbconvert_exporter": "python",
   "pygments_lexer": "ipython3",
   "version": "3.5.2"
  }
 },
 "nbformat": 4,
 "nbformat_minor": 1
}
